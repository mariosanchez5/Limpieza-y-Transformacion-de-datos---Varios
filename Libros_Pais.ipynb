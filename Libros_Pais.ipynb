{
 "cells": [
  {
   "cell_type": "markdown",
   "metadata": {},
   "source": [
    "Utilizaremos datos descargados de Kaggle sobre la cantidad de libros per capita por cada año y pais."
   ]
  },
  {
   "cell_type": "code",
   "execution_count": 1,
   "metadata": {},
   "outputs": [],
   "source": [
    "import numpy as np \n",
    "import pandas as pd \n",
    "import matplotlib.pyplot as plt"
   ]
  },
  {
   "cell_type": "markdown",
   "metadata": {},
   "source": [
    "Cargamos nuestros datos en una variable"
   ]
  },
  {
   "cell_type": "code",
   "execution_count": 3,
   "metadata": {},
   "outputs": [
    {
     "name": "stdout",
     "output_type": "stream",
     "text": [
      "    Entity Code  Year Book titles per capita (Fink-Jensen 2015)\n",
      "0  Belgium  BEL  1500                                      25.6\n",
      "1   France  FRA  1500                       351.764.705.882.353\n",
      "2  Germany  DEU  1500                     4.523.809.523.809.520\n",
      "3  Ireland  IRL  1500                                         0\n",
      "4    Italy  ITA  1500                     6.530.000.000.000.000\n"
     ]
    }
   ],
   "source": [
    "df = pd.read_csv('new-books-per-million.csv new.csv')\n",
    "print(df.head())"
   ]
  },
  {
   "cell_type": "markdown",
   "metadata": {},
   "source": [
    "Vemos la cantidad de filas y columnas"
   ]
  },
  {
   "cell_type": "code",
   "execution_count": 7,
   "metadata": {},
   "outputs": [
    {
     "data": {
      "text/plain": [
       "(8312, 4)"
      ]
     },
     "execution_count": 7,
     "metadata": {},
     "output_type": "execute_result"
    }
   ],
   "source": [
    "df.shape"
   ]
  },
  {
   "cell_type": "markdown",
   "metadata": {},
   "source": [
    "El tipo de datos de cada columna"
   ]
  },
  {
   "cell_type": "code",
   "execution_count": 8,
   "metadata": {},
   "outputs": [
    {
     "name": "stdout",
     "output_type": "stream",
     "text": [
      "<class 'pandas.core.frame.DataFrame'>\n",
      "RangeIndex: 8312 entries, 0 to 8311\n",
      "Data columns (total 4 columns):\n",
      " #   Column                                     Non-Null Count  Dtype \n",
      "---  ------                                     --------------  ----- \n",
      " 0   Entity                                     8312 non-null   object\n",
      " 1   Code                                       8312 non-null   object\n",
      " 2   Year                                       8312 non-null   int64 \n",
      " 3   Book titles per capita (Fink-Jensen 2015)  8312 non-null   object\n",
      "dtypes: int64(1), object(3)\n",
      "memory usage: 259.9+ KB\n"
     ]
    }
   ],
   "source": [
    "df.info()"
   ]
  },
  {
   "cell_type": "markdown",
   "metadata": {},
   "source": [
    "Podemos apreciar que solo año esta considerado como numero y las demas columnas como texto. Sin embargo, Book titles per capita (Fink-Jensen 2015) es una variable numerica, por lo cual debemos transformarla"
   ]
  },
  {
   "cell_type": "markdown",
   "metadata": {},
   "source": [
    "Primero debemos eliminar los puntos de la cadena del numero"
   ]
  },
  {
   "cell_type": "code",
   "execution_count": 10,
   "metadata": {},
   "outputs": [
    {
     "name": "stderr",
     "output_type": "stream",
     "text": [
      "<ipython-input-10-3234b743e575>:1: FutureWarning: The default value of regex will change from True to False in a future version. In addition, single character regular expressions will*not* be treated as literal strings when regex=True.\n",
      "  df['Book titles per capita (Fink-Jensen 2015)'] = df['Book titles per capita (Fink-Jensen 2015)'].str.replace('.','')\n"
     ]
    }
   ],
   "source": [
    "df['Book titles per capita (Fink-Jensen 2015)'] = df['Book titles per capita (Fink-Jensen 2015)'].str.replace('.','')"
   ]
  },
  {
   "cell_type": "markdown",
   "metadata": {},
   "source": [
    "Luego convertimos la columna a tipo de datos flotante"
   ]
  },
  {
   "cell_type": "code",
   "execution_count": 11,
   "metadata": {},
   "outputs": [],
   "source": [
    "df['Book titles per capita (Fink-Jensen 2015)'] = df['Book titles per capita (Fink-Jensen 2015)'].astype(float)"
   ]
  },
  {
   "cell_type": "markdown",
   "metadata": {},
   "source": [
    "Verificamos nuevamente el tipo de datos de cada columna"
   ]
  },
  {
   "cell_type": "code",
   "execution_count": 12,
   "metadata": {},
   "outputs": [
    {
     "name": "stdout",
     "output_type": "stream",
     "text": [
      "<class 'pandas.core.frame.DataFrame'>\n",
      "RangeIndex: 8312 entries, 0 to 8311\n",
      "Data columns (total 4 columns):\n",
      " #   Column                                     Non-Null Count  Dtype  \n",
      "---  ------                                     --------------  -----  \n",
      " 0   Entity                                     8312 non-null   object \n",
      " 1   Code                                       8312 non-null   object \n",
      " 2   Year                                       8312 non-null   int64  \n",
      " 3   Book titles per capita (Fink-Jensen 2015)  8312 non-null   float64\n",
      "dtypes: float64(1), int64(1), object(2)\n",
      "memory usage: 259.9+ KB\n"
     ]
    }
   ],
   "source": [
    "df.info()"
   ]
  },
  {
   "cell_type": "markdown",
   "metadata": {},
   "source": [
    "Confirmamos que no hayan nulos"
   ]
  },
  {
   "cell_type": "code",
   "execution_count": 13,
   "metadata": {},
   "outputs": [
    {
     "data": {
      "text/plain": [
       "Entity                                       0\n",
       "Code                                         0\n",
       "Year                                         0\n",
       "Book titles per capita (Fink-Jensen 2015)    0\n",
       "dtype: int64"
      ]
     },
     "execution_count": 13,
     "metadata": {},
     "output_type": "execute_result"
    }
   ],
   "source": [
    "df.isnull().sum()"
   ]
  },
  {
   "cell_type": "markdown",
   "metadata": {},
   "source": [
    "Vemos los estadisticos de las columnas numericas"
   ]
  },
  {
   "cell_type": "code",
   "execution_count": 14,
   "metadata": {},
   "outputs": [
    {
     "data": {
      "text/html": [
       "<div>\n",
       "<style scoped>\n",
       "    .dataframe tbody tr th:only-of-type {\n",
       "        vertical-align: middle;\n",
       "    }\n",
       "\n",
       "    .dataframe tbody tr th {\n",
       "        vertical-align: top;\n",
       "    }\n",
       "\n",
       "    .dataframe thead th {\n",
       "        text-align: right;\n",
       "    }\n",
       "</style>\n",
       "<table border=\"1\" class=\"dataframe\">\n",
       "  <thead>\n",
       "    <tr style=\"text-align: right;\">\n",
       "      <th></th>\n",
       "      <th>Year</th>\n",
       "      <th>Book titles per capita (Fink-Jensen 2015)</th>\n",
       "    </tr>\n",
       "  </thead>\n",
       "  <tbody>\n",
       "    <tr>\n",
       "      <th>count</th>\n",
       "      <td>8312.000000</td>\n",
       "      <td>8.312000e+03</td>\n",
       "    </tr>\n",
       "    <tr>\n",
       "      <th>mean</th>\n",
       "      <td>1799.014317</td>\n",
       "      <td>1.221315e+16</td>\n",
       "    </tr>\n",
       "    <tr>\n",
       "      <th>std</th>\n",
       "      <td>160.522828</td>\n",
       "      <td>1.297594e+16</td>\n",
       "    </tr>\n",
       "    <tr>\n",
       "      <th>min</th>\n",
       "      <td>1500.000000</td>\n",
       "      <td>0.000000e+00</td>\n",
       "    </tr>\n",
       "    <tr>\n",
       "      <th>25%</th>\n",
       "      <td>1657.000000</td>\n",
       "      <td>3.355739e+15</td>\n",
       "    </tr>\n",
       "    <tr>\n",
       "      <th>50%</th>\n",
       "      <td>1792.000000</td>\n",
       "      <td>7.732920e+15</td>\n",
       "    </tr>\n",
       "    <tr>\n",
       "      <th>75%</th>\n",
       "      <td>1960.000000</td>\n",
       "      <td>1.600195e+16</td>\n",
       "    </tr>\n",
       "    <tr>\n",
       "      <th>max</th>\n",
       "      <td>2009.000000</td>\n",
       "      <td>7.855464e+16</td>\n",
       "    </tr>\n",
       "  </tbody>\n",
       "</table>\n",
       "</div>"
      ],
      "text/plain": [
       "              Year  Book titles per capita (Fink-Jensen 2015)\n",
       "count  8312.000000                               8.312000e+03\n",
       "mean   1799.014317                               1.221315e+16\n",
       "std     160.522828                               1.297594e+16\n",
       "min    1500.000000                               0.000000e+00\n",
       "25%    1657.000000                               3.355739e+15\n",
       "50%    1792.000000                               7.732920e+15\n",
       "75%    1960.000000                               1.600195e+16\n",
       "max    2009.000000                               7.855464e+16"
      ]
     },
     "execution_count": 14,
     "metadata": {},
     "output_type": "execute_result"
    }
   ],
   "source": [
    "df.describe()"
   ]
  },
  {
   "cell_type": "markdown",
   "metadata": {},
   "source": [
    "Podemos apreciar que para Year el minimo año es 2015 el maximo 2009.\n",
    "\n",
    "Sin embargo para la columna Book titles per capita (Fink-Jensen 2015), el maximo y los demas cuartiles se ven dentro de la misma magnitud, no asi el minimo, por lo cual veremos como se distribuyen esos datos."
   ]
  },
  {
   "cell_type": "code",
   "execution_count": 21,
   "metadata": {},
   "outputs": [
    {
     "data": {
      "image/png": "[encoded data removed]",
      "text/plain": [
       "<Figure size 576x432 with 1 Axes>"
      ]
     },
     "metadata": {
      "needs_background": "light"
     },
     "output_type": "display_data"
    }
   ],
   "source": [
    "plt.figure(figsize=(8, 6))\n",
    "plt.hist(df['Book titles per capita (Fink-Jensen 2015)'], bins=20, edgecolor='black')  # Ajusta el número de bins según tus necesidades\n",
    "\n",
    "plt.xlabel('Book titles per capita (Fink-Jensen 2015)')\n",
    "plt.ylabel('Frecuencia')\n",
    "plt.title('Histograma de Book titles per capita')\n",
    "plt.show()"
   ]
  },
  {
   "cell_type": "markdown",
   "metadata": {},
   "source": [
    "O podemos verlo mediante un boxplot"
   ]
  },
  {
   "cell_type": "code",
   "execution_count": 15,
   "metadata": {},
   "outputs": [
    {
     "data": {
      "image/png": "[encoded data removed]",
      "text/plain": [
       "<Figure size 432x288 with 1 Axes>"
      ]
     },
     "metadata": {
      "needs_background": "light"
     },
     "output_type": "display_data"
    }
   ],
   "source": [
    "plt.figure()\n",
    "plt.boxplot(df['Book titles per capita (Fink-Jensen 2015)'])\n",
    "plt.show()"
   ]
  },
  {
   "cell_type": "markdown",
   "metadata": {},
   "source": [
    "Como también los podemos ver agrupados y saber la cantidad exacta"
   ]
  },
  {
   "cell_type": "code",
   "execution_count": 16,
   "metadata": {},
   "outputs": [
    {
     "name": "stdout",
     "output_type": "stream",
     "text": [
      "0.000000e+00    290\n",
      "3.823530e+16    162\n",
      "7.486630e+15    117\n",
      "8.500000e+01    100\n",
      "6.000000e+00     99\n",
      "               ... \n",
      "4.523810e+15      1\n",
      "1.772604e+16      1\n",
      "1.213302e+16      1\n",
      "1.573960e+16      1\n",
      "3.870715e+15      1\n",
      "Name: Book titles per capita (Fink-Jensen 2015), Length: 7328, dtype: int64\n"
     ]
    }
   ],
   "source": [
    "conteo = df['Book titles per capita (Fink-Jensen 2015)'].value_counts()\n",
    "print(conteo)"
   ]
  },
  {
   "cell_type": "code",
   "execution_count": 23,
   "metadata": {},
   "outputs": [
    {
     "data": {
      "image/png": "[encoded data removed]",
      "text/plain": [
       "<Figure size 720x432 with 1 Axes>"
      ]
     },
     "metadata": {
      "needs_background": "light"
     },
     "output_type": "display_data"
    }
   ],
   "source": [
    "# Obtenemos los valores únicos y su frecuencia\n",
    "valores_unicos = df['Book titles per capita (Fink-Jensen 2015)'].value_counts().sort_index()\n",
    "\n",
    "plt.figure(figsize=(10, 6))\n",
    "plt.plot(valores_unicos.index, valores_unicos.values, marker='o', linestyle='', color='b')\n",
    "\n",
    "plt.xlabel('Book titles per capita (Fink-Jensen 2015)')\n",
    "plt.ylabel('Frecuencia')\n",
    "plt.title('Valores distintivos de Book titles per capita (Fink-Jensen 2015)')\n",
    "plt.show()"
   ]
  },
  {
   "cell_type": "markdown",
   "metadata": {},
   "source": [
    "Vemos que la mayoría de los datos se encuentran en los números más bajos, por lo cual seguiremos adelante."
   ]
  }
 ],
 "metadata": {
  "kernelspec": {
   "display_name": "Python 3",
   "language": "python",
   "name": "python3"
  },
  "language_info": {
   "codemirror_mode": {
    "name": "ipython",
    "version": 3
   },
   "file_extension": ".py",
   "mimetype": "text/x-python",
   "name": "python",
   "nbconvert_exporter": "python",
   "pygments_lexer": "ipython3",
   "version": "3.9.1"
  }
 },
 "nbformat": 4,
 "nbformat_minor": 2
}
