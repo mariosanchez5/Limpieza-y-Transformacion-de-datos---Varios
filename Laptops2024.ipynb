{
 "cells": [
  {
   "cell_type": "markdown",
   "metadata": {},
   "source": [
    "En este protecto trabajaremos con un dataset de laptops diseñadas para el año 2024. El principal objetivo es practicar la limpieza y transformación de los datos."
   ]
  },
  {
   "cell_type": "markdown",
   "metadata": {},
   "source": [
    "Importamos nuestras librerías"
   ]
  },
  {
   "cell_type": "code",
   "execution_count": 48,
   "metadata": {},
   "outputs": [],
   "source": [
    "import numpy as np\n",
    "import pandas as pd\n",
    "import matplotlib.pyplot as plt\n",
    "import seaborn as sns\n",
    "from scipy import stats\n"
   ]
  },
  {
   "cell_type": "markdown",
   "metadata": {},
   "source": [
    "Cargamos nuestro dataset y vemos las primeras filas"
   ]
  },
  {
   "cell_type": "code",
   "execution_count": 49,
   "metadata": {},
   "outputs": [
    {
     "name": "stdout",
     "output_type": "stream",
     "text": [
      "       brand              model  aggregateRating/ratingValue  \\\n",
      "0       Dell  i7430-7374SLV-PUS                          4.7   \n",
      "1       Dell  i3520-5810BLK-PUS                          4.6   \n",
      "2     Lenovo         82YL0002US                          4.7   \n",
      "3  Microsoft          DTI-00001                          4.7   \n",
      "4  Microsoft          R1S-00062                          4.7   \n",
      "\n",
      "   aggregateRating/reviewCount  offers/price offers/priceCurrency  depth  \\\n",
      "0                       1088.0           NaN                  USD   8.92   \n",
      "1                        839.0           NaN                  USD   9.27   \n",
      "2                        127.0           NaN                  USD   8.76   \n",
      "3                        926.0           NaN                  USD   7.90   \n",
      "4                        422.0           NaN                  USD   8.80   \n",
      "\n",
      "   width                             features/0/description  \\\n",
      "0  12.36  Windows 11 brings back the Start Menu from Win...   \n",
      "1  14.11  Experience the most secure Windows ever built ...   \n",
      "2  12.51  Windows 11 brings back the Start Menu from Win...   \n",
      "3  11.50  Find the relevant information and ideas you ne...   \n",
      "4  12.10  Find the relevant information and ideas you ne...   \n",
      "\n",
      "                              features/1/description  \n",
      "0  Equipped with a FHD+ IPS touch screen, the bor...  \n",
      "1  Natural finger-touch navigation makes the most...  \n",
      "2  Find the relevant information and ideas you ne...  \n",
      "3  Iconic 2-in-1 design transforms into what you ...  \n",
      "4  Family, friends, passions, music, creations – ...  \n"
     ]
    }
   ],
   "source": [
    "df = pd.read_csv('best_buy_laptops_2024.csv')\n",
    "print(df.head())"
   ]
  },
  {
   "cell_type": "markdown",
   "metadata": {},
   "source": [
    "Obtenemos mayor información de cada una de sus columnas y apreciamos sus tipo de datos y si existen valores nulos"
   ]
  },
  {
   "cell_type": "code",
   "execution_count": 50,
   "metadata": {},
   "outputs": [
    {
     "name": "stdout",
     "output_type": "stream",
     "text": [
      "<class 'pandas.core.frame.DataFrame'>\n",
      "RangeIndex: 489 entries, 0 to 488\n",
      "Data columns (total 10 columns):\n",
      " #   Column                       Non-Null Count  Dtype  \n",
      "---  ------                       --------------  -----  \n",
      " 0   brand                        489 non-null    object \n",
      " 1   model                        488 non-null    object \n",
      " 2   aggregateRating/ratingValue  357 non-null    float64\n",
      " 3   aggregateRating/reviewCount  357 non-null    float64\n",
      " 4   offers/price                 262 non-null    float64\n",
      " 5   offers/priceCurrency         489 non-null    object \n",
      " 6   depth                        431 non-null    float64\n",
      " 7   width                        431 non-null    float64\n",
      " 8   features/0/description       486 non-null    object \n",
      " 9   features/1/description       483 non-null    object \n",
      "dtypes: float64(5), object(5)\n",
      "memory usage: 38.3+ KB\n"
     ]
    }
   ],
   "source": [
    "df.info()"
   ]
  },
  {
   "cell_type": "markdown",
   "metadata": {},
   "source": [
    "Verificamos que el tipo de dato es el correcto para cada columna por lo cual seguimos con la revisión de los datos nulos."
   ]
  },
  {
   "cell_type": "markdown",
   "metadata": {},
   "source": [
    "Contamos la cantidad de valores nulos por columna"
   ]
  },
  {
   "cell_type": "code",
   "execution_count": 51,
   "metadata": {},
   "outputs": [
    {
     "data": {
      "text/plain": [
       "brand                            0\n",
       "model                            1\n",
       "aggregateRating/ratingValue    132\n",
       "aggregateRating/reviewCount    132\n",
       "offers/price                   227\n",
       "offers/priceCurrency             0\n",
       "depth                           58\n",
       "width                           58\n",
       "features/0/description           3\n",
       "features/1/description           6\n",
       "dtype: int64"
      ]
     },
     "execution_count": 51,
     "metadata": {},
     "output_type": "execute_result"
    }
   ],
   "source": [
    "df.isnull().sum()"
   ]
  },
  {
   "cell_type": "markdown",
   "metadata": {},
   "source": [
    "Existen varias opciones para trabajar con valores nulos. Las principales son:\n",
    "1. Borrar las filas que contienen valores nulos\n",
    "2. Rellenar con algun valor los datos nulos\n",
    "3. Completar con el valor a continuación o que seguiría en el valor nulo"
   ]
  },
  {
   "cell_type": "markdown",
   "metadata": {},
   "source": [
    "1. Aquí probaremos eliminado las filas con valores nulos, pero nos daremos cuenta de que nos quedamos con muy pocos datos para trabajar."
   ]
  },
  {
   "cell_type": "code",
   "execution_count": 52,
   "metadata": {},
   "outputs": [
    {
     "name": "stdout",
     "output_type": "stream",
     "text": [
      "<class 'pandas.core.frame.DataFrame'>\n",
      "Int64Index: 95 entries, 13 to 486\n",
      "Data columns (total 10 columns):\n",
      " #   Column                       Non-Null Count  Dtype  \n",
      "---  ------                       --------------  -----  \n",
      " 0   brand                        95 non-null     object \n",
      " 1   model                        95 non-null     object \n",
      " 2   aggregateRating/ratingValue  95 non-null     float64\n",
      " 3   aggregateRating/reviewCount  95 non-null     float64\n",
      " 4   offers/price                 95 non-null     float64\n",
      " 5   offers/priceCurrency         95 non-null     object \n",
      " 6   depth                        95 non-null     float64\n",
      " 7   width                        95 non-null     float64\n",
      " 8   features/0/description       95 non-null     object \n",
      " 9   features/1/description       95 non-null     object \n",
      "dtypes: float64(5), object(5)\n",
      "memory usage: 8.2+ KB\n"
     ]
    }
   ],
   "source": [
    "df_drop = df.dropna()\n",
    "df_drop.info()"
   ]
  },
  {
   "cell_type": "markdown",
   "metadata": {},
   "source": [
    "2. Probaremos rellenado los valores nulos con la mediana de cada columna"
   ]
  },
  {
   "cell_type": "code",
   "execution_count": 53,
   "metadata": {},
   "outputs": [
    {
     "name": "stdout",
     "output_type": "stream",
     "text": [
      "<class 'pandas.core.frame.DataFrame'>\n",
      "RangeIndex: 489 entries, 0 to 488\n",
      "Data columns (total 10 columns):\n",
      " #   Column                       Non-Null Count  Dtype  \n",
      "---  ------                       --------------  -----  \n",
      " 0   brand                        489 non-null    object \n",
      " 1   model                        488 non-null    object \n",
      " 2   aggregateRating/ratingValue  489 non-null    float64\n",
      " 3   aggregateRating/reviewCount  489 non-null    float64\n",
      " 4   offers/price                 489 non-null    float64\n",
      " 5   offers/priceCurrency         489 non-null    object \n",
      " 6   depth                        489 non-null    float64\n",
      " 7   width                        489 non-null    float64\n",
      " 8   features/0/description       486 non-null    object \n",
      " 9   features/1/description       483 non-null    object \n",
      "dtypes: float64(5), object(5)\n",
      "memory usage: 38.3+ KB\n"
     ]
    }
   ],
   "source": [
    "df2 = df.fillna(df.median())\n",
    "df2.info()"
   ]
  },
  {
   "cell_type": "code",
   "execution_count": 54,
   "metadata": {},
   "outputs": [
    {
     "data": {
      "text/plain": [
       "brand                          0\n",
       "model                          1\n",
       "aggregateRating/ratingValue    0\n",
       "aggregateRating/reviewCount    0\n",
       "offers/price                   0\n",
       "offers/priceCurrency           0\n",
       "depth                          0\n",
       "width                          0\n",
       "features/0/description         3\n",
       "features/1/description         6\n",
       "dtype: int64"
      ]
     },
     "execution_count": 54,
     "metadata": {},
     "output_type": "execute_result"
    }
   ],
   "source": [
    "df2.isnull().sum()"
   ]
  },
  {
   "cell_type": "markdown",
   "metadata": {},
   "source": [
    "Como podemos ver siguen quedando unos datos nulos que son de las columnas no numericas, pero como son pocos datos eliminaremos esas filas."
   ]
  },
  {
   "cell_type": "code",
   "execution_count": 55,
   "metadata": {},
   "outputs": [
    {
     "data": {
      "text/plain": [
       "brand                          0\n",
       "model                          0\n",
       "aggregateRating/ratingValue    0\n",
       "aggregateRating/reviewCount    0\n",
       "offers/price                   0\n",
       "offers/priceCurrency           0\n",
       "depth                          0\n",
       "width                          0\n",
       "features/0/description         0\n",
       "features/1/description         0\n",
       "dtype: int64"
      ]
     },
     "execution_count": 55,
     "metadata": {},
     "output_type": "execute_result"
    }
   ],
   "source": [
    "df2_drop = df2.dropna()\n",
    "df2_drop.isnull().sum()"
   ]
  },
  {
   "cell_type": "markdown",
   "metadata": {},
   "source": [
    "Lo otro que debemos hacer para limpiar nuestros datos es identificar si tenemos outliers. Con el describe() podemos fijarnos en su media, desviación estándar, mediana y sus máximos y mínimos de cada columna numérica para darnos una idea."
   ]
  },
  {
   "cell_type": "code",
   "execution_count": 56,
   "metadata": {},
   "outputs": [
    {
     "data": {
      "text/html": [
       "<div>\n",
       "<style scoped>\n",
       "    .dataframe tbody tr th:only-of-type {\n",
       "        vertical-align: middle;\n",
       "    }\n",
       "\n",
       "    .dataframe tbody tr th {\n",
       "        vertical-align: top;\n",
       "    }\n",
       "\n",
       "    .dataframe thead th {\n",
       "        text-align: right;\n",
       "    }\n",
       "</style>\n",
       "<table border=\"1\" class=\"dataframe\">\n",
       "  <thead>\n",
       "    <tr style=\"text-align: right;\">\n",
       "      <th></th>\n",
       "      <th>aggregateRating/ratingValue</th>\n",
       "      <th>aggregateRating/reviewCount</th>\n",
       "      <th>offers/price</th>\n",
       "      <th>depth</th>\n",
       "      <th>width</th>\n",
       "    </tr>\n",
       "  </thead>\n",
       "  <tbody>\n",
       "    <tr>\n",
       "      <th>count</th>\n",
       "      <td>480.000000</td>\n",
       "      <td>480.000000</td>\n",
       "      <td>480.000000</td>\n",
       "      <td>480.000000</td>\n",
       "      <td>480.000000</td>\n",
       "    </tr>\n",
       "    <tr>\n",
       "      <th>mean</th>\n",
       "      <td>4.474583</td>\n",
       "      <td>194.095833</td>\n",
       "      <td>1079.111417</td>\n",
       "      <td>9.617312</td>\n",
       "      <td>11.993104</td>\n",
       "    </tr>\n",
       "    <tr>\n",
       "      <th>std</th>\n",
       "      <td>0.544339</td>\n",
       "      <td>533.625688</td>\n",
       "      <td>577.798917</td>\n",
       "      <td>2.741921</td>\n",
       "      <td>3.156843</td>\n",
       "    </tr>\n",
       "    <tr>\n",
       "      <th>min</th>\n",
       "      <td>1.000000</td>\n",
       "      <td>1.000000</td>\n",
       "      <td>143.990000</td>\n",
       "      <td>0.490000</td>\n",
       "      <td>0.580000</td>\n",
       "    </tr>\n",
       "    <tr>\n",
       "      <th>25%</th>\n",
       "      <td>4.500000</td>\n",
       "      <td>5.000000</td>\n",
       "      <td>949.990000</td>\n",
       "      <td>8.775000</td>\n",
       "      <td>11.652500</td>\n",
       "    </tr>\n",
       "    <tr>\n",
       "      <th>50%</th>\n",
       "      <td>4.600000</td>\n",
       "      <td>18.000000</td>\n",
       "      <td>959.990000</td>\n",
       "      <td>9.220000</td>\n",
       "      <td>12.510000</td>\n",
       "    </tr>\n",
       "    <tr>\n",
       "      <th>75%</th>\n",
       "      <td>4.700000</td>\n",
       "      <td>123.250000</td>\n",
       "      <td>1007.490000</td>\n",
       "      <td>10.082500</td>\n",
       "      <td>14.020000</td>\n",
       "    </tr>\n",
       "    <tr>\n",
       "      <th>max</th>\n",
       "      <td>5.000000</td>\n",
       "      <td>4231.000000</td>\n",
       "      <td>4489.990000</td>\n",
       "      <td>20.250000</td>\n",
       "      <td>18.100000</td>\n",
       "    </tr>\n",
       "  </tbody>\n",
       "</table>\n",
       "</div>"
      ],
      "text/plain": [
       "       aggregateRating/ratingValue  aggregateRating/reviewCount  offers/price  \\\n",
       "count                   480.000000                   480.000000    480.000000   \n",
       "mean                      4.474583                   194.095833   1079.111417   \n",
       "std                       0.544339                   533.625688    577.798917   \n",
       "min                       1.000000                     1.000000    143.990000   \n",
       "25%                       4.500000                     5.000000    949.990000   \n",
       "50%                       4.600000                    18.000000    959.990000   \n",
       "75%                       4.700000                   123.250000   1007.490000   \n",
       "max                       5.000000                  4231.000000   4489.990000   \n",
       "\n",
       "            depth       width  \n",
       "count  480.000000  480.000000  \n",
       "mean     9.617312   11.993104  \n",
       "std      2.741921    3.156843  \n",
       "min      0.490000    0.580000  \n",
       "25%      8.775000   11.652500  \n",
       "50%      9.220000   12.510000  \n",
       "75%     10.082500   14.020000  \n",
       "max     20.250000   18.100000  "
      ]
     },
     "execution_count": 56,
     "metadata": {},
     "output_type": "execute_result"
    }
   ],
   "source": [
    "df2_drop.describe()"
   ]
  },
  {
   "cell_type": "markdown",
   "metadata": {},
   "source": [
    "También podemos graficar rápidamente con hist() para ver como se comportan nuestros datos y visualizar de manera gráfica nuestros outliers"
   ]
  },
  {
   "cell_type": "code",
   "execution_count": 57,
   "metadata": {},
   "outputs": [
    {
     "data": {
      "text/plain": [
       "array([[<AxesSubplot:title={'center':'aggregateRating/ratingValue'}>,\n",
       "        <AxesSubplot:title={'center':'aggregateRating/reviewCount'}>],\n",
       "       [<AxesSubplot:title={'center':'offers/price'}>,\n",
       "        <AxesSubplot:title={'center':'depth'}>],\n",
       "       [<AxesSubplot:title={'center':'width'}>, <AxesSubplot:>]],\n",
       "      dtype=object)"
      ]
     },
     "execution_count": 57,
     "metadata": {},
     "output_type": "execute_result"
    },
    {
     "data": {
      "image/png": "[encoded data removed]",
      "text/plain": [
       "<Figure size 432x288 with 6 Axes>"
      ]
     },
     "metadata": {
      "needs_background": "light"
     },
     "output_type": "display_data"
    }
   ],
   "source": [
    "df2_drop.hist()"
   ]
  },
  {
   "cell_type": "markdown",
   "metadata": {},
   "source": [
    "Como pudimos apreciar con los codigos anteriores las tres primeras columnas presentan otliers pero parecen estar dentro de un margen que no tuviera error. Por ejemplo un rating de 1 a 5, reviews que van desde 1 a 4231 y precios que van desde 143 a 4489. Pero por otro lado las medidas de las siguientes dos columnas parecen ser extrañas al ser muy pequeños sus minimos. Por esto las graficaremos en un boxplot."
   ]
  },
  {
   "cell_type": "code",
   "execution_count": 58,
   "metadata": {},
   "outputs": [
    {
     "data": {
      "image/png": "[encoded data removed]",
      "text/plain": [
       "<Figure size 432x288 with 1 Axes>"
      ]
     },
     "metadata": {
      "needs_background": "light"
     },
     "output_type": "display_data"
    }
   ],
   "source": [
    "sns.boxplot(x=df2_drop['depth'])\n",
    "plt.show()"
   ]
  },
  {
   "cell_type": "code",
   "execution_count": 59,
   "metadata": {},
   "outputs": [
    {
     "data": {
      "image/png": "[encoded data removed]",
      "text/plain": [
       "<Figure size 432x288 with 1 Axes>"
      ]
     },
     "metadata": {
      "needs_background": "light"
     },
     "output_type": "display_data"
    }
   ],
   "source": [
    "sns.boxplot(x=df2_drop['width'])\n",
    "plt.show()"
   ]
  },
  {
   "cell_type": "markdown",
   "metadata": {},
   "source": [
    "Para tratar los outliers también existen diversas maneras como por ejemplo:\n",
    "1. Eliminar Outliers\n",
    "2. Transformar los datos\n",
    "3. Imputar los datos\n",
    "Entre otros."
   ]
  },
  {
   "cell_type": "markdown",
   "metadata": {},
   "source": [
    "Eliminaremos los Outliers mayores y menores a 3 desviaciones estandar"
   ]
  },
  {
   "cell_type": "code",
   "execution_count": 70,
   "metadata": {},
   "outputs": [
    {
     "data": {
      "image/png": "[encoded data removed]",
      "text/plain": [
       "<Figure size 432x288 with 1 Axes>"
      ]
     },
     "metadata": {
      "needs_background": "light"
     },
     "output_type": "display_data"
    }
   ],
   "source": [
    "df3_drop = df2_drop\n",
    "\n",
    "z_scores = stats.zscore(df3_drop.width) # Calculamos z-scores\n",
    "\n",
    "outliers = df3_drop[np.abs(z_scores) > 3] # Identificamos outliers\n",
    "\n",
    "df3_drop = df3_drop[~df3_drop.isin(outliers)] # Eliminamos outliers\n",
    "\n",
    "# Visualizamos el resultado\n",
    "sns.boxplot(x=df3_drop.width)\n",
    "plt.show()"
   ]
  },
  {
   "cell_type": "markdown",
   "metadata": {},
   "source": [
    "Ahora veremos como quedaron nuestros estadisticos de la columna width"
   ]
  },
  {
   "cell_type": "code",
   "execution_count": 72,
   "metadata": {},
   "outputs": [
    {
     "data": {
      "text/plain": [
       "count    455.000000\n",
       "mean      12.613429\n",
       "std        1.763426\n",
       "min        7.950000\n",
       "25%       12.000000\n",
       "50%       12.510000\n",
       "75%       14.020000\n",
       "max       18.100000\n",
       "Name: width, dtype: float64"
      ]
     },
     "execution_count": 72,
     "metadata": {},
     "output_type": "execute_result"
    }
   ],
   "source": [
    "df3_drop.width.describe()"
   ]
  },
  {
   "cell_type": "markdown",
   "metadata": {},
   "source": [
    "Podemos ver que se eliminaron esos mínimos que no encontrabamos normales en nuestra base y también se redujo la desviación estandar de nuestra columna. Por otro lado podemos ver que nuestra cantidad de datos también disminuyó, pero no de manera considerativa."
   ]
  }
 ],
 "metadata": {
  "kernelspec": {
   "display_name": "Python 3",
   "language": "python",
   "name": "python3"
  },
  "language_info": {
   "codemirror_mode": {
    "name": "ipython",
    "version": 3
   },
   "file_extension": ".py",
   "mimetype": "text/x-python",
   "name": "python",
   "nbconvert_exporter": "python",
   "pygments_lexer": "ipython3",
   "version": "3.9.1"
  }
 },
 "nbformat": 4,
 "nbformat_minor": 2
}
